{
 "cells": [
  {
   "cell_type": "code",
   "execution_count": 50,
   "metadata": {},
   "outputs": [],
   "source": [
    "import numpy as np"
   ]
  },
  {
   "cell_type": "code",
   "execution_count": 15,
   "metadata": {},
   "outputs": [
    {
     "name": "stdout",
     "output_type": "stream",
     "text": [
      "(3, 7)\n"
     ]
    }
   ],
   "source": [
    "a = np.array([['A', 'C', 'T', 'G', 'T', 'G', 'A'],['T', 'A', 'C', 'T', 'G', 'C', ''],['A', 'C', 'T', 'G', 'A', '', '']])\n",
    "print(a.shape)\n",
    "\n",
    "#[['A' 'C' 'T' 'G' 'T' 'G' 'A']\n",
    "# ['T' 'A' 'C' 'T' 'G' 'C' '-']\n",
    "# ['A' 'C' 'T' 'G' 'A' '-' '-']]\n",
    "#'''"
>>>>>>> 8dc736e8a5fcd3e529b1807bdd0dee73cb423d49
   ]
  },
  {
   "cell_type": "code",
   "execution_count": 16,
   "metadata": {},
   "outputs": [
    {
     "data": {
      "text/plain": [
       "int"
      ]
     },
     "execution_count": 16,
     "metadata": {},
     "output_type": "execute_result"
    }
   ],
   "source": [
    "#arr = a\n",
    "#print(np.c_[arr, np.repeat(['-'],arr.shape[0])])\n",
    "type(np.r_[np.zeros(16-3),np.array([int(x) for x in bin(3)[2:]])].shape[0])"
   ]
  },
  {
   "cell_type": "code",
   "execution_count": 43,
   "metadata": {},
   "outputs": [],
   "source": [
    "def trim(arr):\n",
    "    if np.all(res[:,-1] == np.repeat([''],res.shape[0])):\n",
    "        return res[:,0:-1]"
   ]
  },
  {
   "cell_type": "code",
   "execution_count": 48,
   "metadata": {},
   "outputs": [],
   "source": [
    "def expansion_func(arr, index):\n",
    "    t_arr = np.c_[arr, np.repeat([''],arr.shape[0])]\n",
    "    #t_arr = arr\n",
    "    a = 0\n",
    "    '''\n",
    "    min = Cost(trim(t_arr))\n",
    "    result = t_arr\n",
    "    '''\n",
    "    #for i in range(int(2 ** t_arr.shape[0])-1):\n",
    "    for i in range(int(0)):\n",
    "        t_arr = np.c_[arr, np.repeat([''],arr.shape[0])]\n",
    "        temp = np.array([int(x) for x in bin(i)[2:]])\n",
    "        bin_no = np.array(np.r_[np.zeros((t_arr.shape[0])-temp.size),temp])#binary number\n",
    "        #print(bin_no)\n",
    "        for ind in np.where(bin_no == 1)[0]:\n",
    "            #print(ind)\n",
    "            t_arr[ind,:] = np.insert(t_arr[ind,0:-1], index, '')\n",
    "        #print(t_arr)\n",
    "    return t_arr\n",
    "    '''\n",
    "        if min > Cost(trim(t_arr)):\n",
    "            result = t_arr\n",
    "            \n",
    "        print(t_arr)\n",
    "    return result\n",
    "    '''\n",
    "    "
   ]
  },
  {
   "cell_type": "code",
   "execution_count": 49,
   "metadata": {},
   "outputs": [
    {
     "name": "stdout",
     "output_type": "stream",
     "text": [
      "[['A' 'C' 'T' 'G' 'T' 'G' 'A' '']\n",
      " ['T' 'A' 'C' 'T' 'G' 'C' '' '']\n",
      " ['A' 'C' 'T' 'G' 'A' '' '' '']]\n",
      "[['A' 'C' 'T' 'G' 'T' 'G' 'A']\n",
      " ['T' 'A' 'C' 'T' 'G' 'C' '']\n",
      " ['A' 'C' 'T' 'G' 'A' '' '']]\n",
      "False\n"
     ]
    }
   ],
   "source": [
    "res = expansion_func(a,1)\n",
    "#print(res)\n",
    "#res = trim(res)\n",
    "#print(res)\n",
    "#print(np.all(res[:,-1] == np.repeat([''],res.shape[0])))"
   ]
  },
  {
   "cell_type": "code",
   "execution_count": null,
   "metadata": {},
   "outputs": [],
   "source": []
  },
  {
   "cell_type": "code",
   "execution_count": null,
   "metadata": {},
   "outputs": [],
   "source": []
  }
 ],
 "metadata": {
  "kernelspec": {
   "display_name": "Python 3",
   "language": "python",
   "name": "python3"
  },
  "language_info": {
   "codemirror_mode": {
    "name": "ipython",
    "version": 2
   },
   "file_extension": ".py",
   "mimetype": "text/x-python",
   "name": "python",
   "nbconvert_exporter": "python",
   "pygments_lexer": "ipython2",
   "version": "2.7.15+"
  }
 },
 "nbformat": 4,
 "nbformat_minor": 2
}
