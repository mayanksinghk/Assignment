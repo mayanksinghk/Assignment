{
 "cells": [
  {
   "cell_type": "code",
   "execution_count": 111,
   "metadata": {},
   "outputs": [],
   "source": [
    "import numpy as np\n",
    "import itertools"
   ]
  },
  {
   "cell_type": "code",
   "execution_count": 172,
   "metadata": {},
   "outputs": [],
   "source": [
    "def fstring(fstring):\n",
    "    mx = 0\n",
    "    for i in range(k):\n",
    "        if mx < len(fstring[i]) - 1 :\n",
    "            mx = len(fstring[i]) - 1\n",
    "        \n",
    "    t = np.empty([k, mx], dtype = str)\n",
    "    for i in range(k):\n",
    "        for j in range(len(fstring[i]) - 1):\n",
    "            t[i][j] = fstring[i][j]\n",
    "        for j in range(len(fstring[i])-1, mx):\n",
    "            t[i][j] = \"\"\n",
    "    return t"
   ]
  },
  {
   "cell_type": "code",
   "execution_count": 173,
   "metadata": {},
   "outputs": [],
   "source": [
    "def MatchingCost(MC):\n",
    "    t = np.zeros([len(MC), len(MC[0])/2])\n",
    "    for i in range(len(MC)):\n",
    "        for j in range(0,len(MC[i]) -1, 2):\n",
    "            t[i][j/2] = float(MC[i][j])\n",
    "    return t"
   ]
  },
  {
   "cell_type": "code",
   "execution_count": 174,
   "metadata": {},
   "outputs": [],
   "source": [
    "file1 = open(\"input.txt\", 'r')\n",
    "temp = file1.readlines()\n",
    "temp = np.array(temp)\n",
    "\n",
    "time = float(temp[0])\n",
    "lenV = int(temp[1])\n",
    "V = temp[2]\n",
    "k = int(temp[3])\n",
    "st = temp[4:4+k]\n",
    "CC = float(temp[4+k])\n",
    "MC = temp[5+k:len(temp)-1]\n",
    "\n",
    "#Vocabulary characters\n",
    "tV = np.empty([lenV], dtype = str)\n",
    "for i in range(0,2*lenV, 2):\n",
    "    tV[i/2] = V[i]\n",
    "    \n",
    "voc_arr = tV\n",
    "vocab = {}\n",
    "for i in range(0, len(voc_arr)):\n",
    "    vocab[voc_arr[i]] = i\n",
    "\n",
    "#input array of strings\n",
    "t = fstring(st)\n",
    "#Matching cost array\n",
    "MC = MatchingCost(MC)"
   ]
  },
  {
   "cell_type": "code",
   "execution_count": 175,
   "metadata": {},
   "outputs": [],
   "source": [
    "#returns the cost of the array\n",
    "def to_list(s, vocab, V):\n",
    "    p = list(s)\n",
    "    x = []\n",
    "    for char in p:\n",
    "        if (char == \"-\"):\n",
    "            x.append(V)\n",
    "        else:\n",
    "            if ( char == \"\"):\n",
    "                x.append(V)\n",
    "            else:\n",
    "                x.append(vocab[char])\n",
    "    return x\n",
    "\n",
    "\n",
    "def calc(s1, s2, vocab, MC, V):\n",
    "    cost = 0\n",
    "    s1 = s1.tolist()\n",
    "    s2 = s2.tolist()\n",
    "    x1 = to_list(s1, vocab, V)\n",
    "    x2 = to_list(s2, vocab, V)\n",
    "    for i in range(0, len(x1)):\n",
    "        cost += MC[x1[i]][x2[i]]\n",
    "    return cost"
   ]
  },
  {
   "cell_type": "code",
   "execution_count": 176,
   "metadata": {},
   "outputs": [],
   "source": [
    "def Cost():\n",
    "    cost = 0\n",
    "    for (s1, s2) in zip(all_list, all_list2):\n",
    "        p1 = list(s1)\n",
    "        p2 = list(s2)\n",
    "        i = 0\n",
    "        j = 0\n",
    "        try:\n",
    "            while (j < len(p2)):\n",
    "                if (p2[j] == \"-\"):\n",
    "                    j = j+1\n",
    "                    cost = cost + CC\n",
    "                else:\n",
    "                    if (p2[j] == p1[i]):\n",
    "                        i = i+1\n",
    "                        j = j+1\n",
    "                    else:\n",
    "                        return \"False\"\n",
    "        except IndexError:\n",
    "            return False\n",
    "        if (i != len(p1)):\n",
    "            return False\n",
    "    for (s1, s2) in itertools.combinations(all_list2, 2):\n",
    "        cost += calc(s1, s2, vocab, MC, V)\n",
    "        \n",
    "    return cost"
   ]
  },
  {
   "cell_type": "code",
   "execution_count": 194,
   "metadata": {},
   "outputs": [],
   "source": [
    "def Cost(st, MC, vocab, V, CC):\n",
    "    cost = 0\n",
    "    for i in range(len(st)):\n",
    "        s1 = st[i]\n",
    "        j = 0\n",
    "        while (j<len(s1)):\n",
    "            if (s1[j] == \"-\"):\n",
    "                cost = cost + CC\n",
    "            if (s1[j] == \"\"):\n",
    "                cost = cost + CC\n",
    "            j = j + 1\n",
    "    for (s1, s2) in itertools.combinations(st, 2):\n",
    "        cost = cost + calc(s1, s2, vocab, MC, V)\n",
    "        print(s1)\n",
    "        print(s2)\n",
    "        print(cost)\n",
    "        print(\"-----------\")\n",
    "    return cost"
   ]
  },
  {
   "cell_type": "code",
   "execution_count": 195,
   "metadata": {},
   "outputs": [
    {
     "name": "stdout",
     "output_type": "stream",
     "text": [
      "ACTGTGA\n",
      "\n",
      "TACTGC\n",
      "\n",
      "-------------------\n",
      "ACTGTGA\n",
      "\n",
      "ACTGA\n",
      "\n",
      "-------------------\n",
      "TACTGC\n",
      "\n",
      "ACTGA\n",
      "\n",
      "-------------------\n"
     ]
    }
   ],
   "source": [
    "for (s1, s2) in itertools.combinations(st, 2):\n",
    "    print(s1)\n",
    "    print(s2)\n",
    "    print(\"-------------------\")"
   ]
  },
  {
   "cell_type": "code",
   "execution_count": 196,
   "metadata": {},
   "outputs": [
    {
     "name": "stdout",
     "output_type": "stream",
     "text": [
      "['A' 'C' 'T' 'G' 'T' 'G' 'A']\n",
      "['T' 'A' 'C' 'T' 'G' 'C' '']\n",
      "[['A' 'C' 'T' 'G' 'T' 'G' 'A']\n",
      " ['T' 'A' 'C' 'T' 'G' 'C' '']\n",
      " ['A' 'C' 'T' 'G' 'A' '' '']]\n"
     ]
    }
   ],
   "source": [
    "a = ['A', 'C', 'T', 'G']\n",
    "b = ['A', 'T', '-', 'G']\n",
    "print(t[0])\n",
    "print(t[1])\n",
    "tem = calc(t[0], t[1], vocab, MC, lenV)\n",
    "print(t)"
   ]
  },
  {
   "cell_type": "code",
   "execution_count": 198,
   "metadata": {},
   "outputs": [
    {
     "name": "stdout",
     "output_type": "stream",
     "text": [
      "['A' 'C' 'T' 'G' 'T' 'G' 'A']\n",
      "['T' 'A' 'C' 'T' 'G' 'C' '']\n",
      "22.0\n",
      "-----------\n",
      "['A' 'C' 'T' 'G' 'T' 'G' 'A']\n",
      "['A' 'C' 'T' 'G' 'A' '' '']\n",
      "26.0\n",
      "-----------\n",
      "['T' 'A' 'C' 'T' 'G' 'C' '']\n",
      "['A' 'C' 'T' 'G' 'A' '' '']\n",
      "37.0\n",
      "-----------\n",
      "37.0\n"
     ]
    }
   ],
   "source": [
    "tem = Cost(t, MC, vocab, lenV, CC)\n",
    "print(tem)"
   ]
  },
  {
   "cell_type": "code",
   "execution_count": 129,
   "metadata": {},
   "outputs": [
    {
     "name": "stdout",
     "output_type": "stream",
     "text": [
      "[['' '' '']\n",
      " ['' '' '']]\n"
     ]
    }
   ],
   "source": [
    "print(np.empty([2,3], dtype = str))"
   "execution_count": 2,
   "metadata": {},
   "outputs": [],
   "source": [
    "import numpy as np"
   ]
  },
  {
   "cell_type": "code",
   "execution_count": null,
   "metadata": {},
   "outputs": [],
   "source": [
    "a = np.array([['A', 'C', 'T', 'G', 'T', 'G', 'A'],['T', 'A', 'C', 'T', 'G', 'C', '-'],['A', 'C', 'T', 'G', 'A', '-', '-']])\n",
    "print(a.shape)\n",
    "\n",
    "#[['A' 'C' 'T' 'G' 'T' 'G' 'A']\n",
    "# ['T' 'A' 'C' 'T' 'G' 'C' '-']\n",
    "# ['A' 'C' 'T' 'G' 'A' '-' '-']]\n",
    "#'''"
   ]
  },
  {
   "cell_type": "code",
   "execution_count": null,
   "metadata": {},
   "outputs": [],
   "source": [
    "#arr = a\n",
    "#print(np.c_[arr, np.repeat(['-'],arr.shape[0])])\n",
    "type(np.r_[np.zeros(16-3),np.array([int(x) for x in bin(3)[2:]])].shape[0])"
   ]
  },
  {
   "cell_type": "code",
   "execution_count": null,
   "metadata": {},
   "outputs": [],
   "source": [
    "def expansion_func(arr, index):\n",
    "    t_arr = np.c_[arr, np.repeat(['-'],arr.shape[0])]\n",
    "    #t_arr = arr\n",
    "    a = 0\n",
    "    for i in range(int(2 ** t_arr.shape[0])-1):\n",
    "        t_arr = np.c_[arr, np.repeat(['-'],arr.shape[0])]\n",
    "        temp = np.array([int(x) for x in bin(i)[2:]])\n",
    "        bin_no = np.array(np.r_[np.zeros((t_arr.shape[0])-temp.size),temp])#binary number\n",
    "        #print(bin_no)\n",
    "        for ind in np.where(bin_no == 1)[0]:\n",
    "            #print(ind)\n",
    "            t_arr[ind,:] = np.insert(t_arr[ind,0:-1], index, '-')\n",
    "            \n",
    "        print(t_arr)"
   ]
  },
  {
   "cell_type": "code",
   "execution_count": null,
   "metadata": {},
   "outputs": [],
   "source": [
    "expansion_func(a,1)"
   ]
  }
 ],
 "metadata": {
  "kernelspec": {
   "display_name": "Python 3",
   "language": "python",
   "name": "python3"
  },
  "language_info": {
   "codemirror_mode": {
    "name": "ipython",
    "version": 2
   },
   "file_extension": ".py",
   "mimetype": "text/x-python",
   "name": "python",
   "nbconvert_exporter": "python",
   "pygments_lexer": "ipython2",
   "version": "2.7.15+"
  }
 },
 "nbformat": 4,
 "nbformat_minor": 2
}
